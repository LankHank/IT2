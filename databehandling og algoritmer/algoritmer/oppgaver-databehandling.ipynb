{
 "cells": [
  {
   "cell_type": "code",
   "execution_count": 2,
   "metadata": {},
   "outputs": [],
   "source": [
    "import json\n",
    "with open(\"spotify-weekly-top-songs-global-uke2-2023.json\") as fil1:\n",
    "    data_spotify = json.load(fil1)\n",
    "with open(\"imdb.json\") as fil2:\n",
    "    data_imdb = json.load(fil2)\n",
    "with open(\"gullball.json\") as fil3:\n",
    "    data_gullball = json.load(fil3)\n"
   ]
  },
  {
   "cell_type": "code",
   "execution_count": 11,
   "metadata": {},
   "outputs": [
    {
     "name": "stdout",
     "output_type": "stream",
     "text": [
      "Believer 358\n"
     ]
    }
   ],
   "source": [
    "# Oppgave 1-1\n",
    "høyest = data_spotify[0][\"uker_paa_listen\"]\n",
    "høyest_sang = data_spotify[0][\"navn\"]\n",
    "for sang in data_spotify:\n",
    "    if sang[\"uker_paa_listen\"] > høyest:\n",
    "        høyest = sang[\"uker_paa_listen\"]\n",
    "        høyest_sang = sang[\"navn\"]\n",
    "print(høyest_sang, høyest)"
   ]
  },
  {
   "cell_type": "code",
   "execution_count": 26,
   "metadata": {},
   "outputs": [
    {
     "name": "stdout",
     "output_type": "stream",
     "text": [
      "TayTay har total 120017297 antall steams, som gir et snitt på 12001729.7\n"
     ]
    }
   ],
   "source": [
    "# Oppgave 1-2\n",
    "avspillinger = 0\n",
    "antall = 0\n",
    "for sang in data_spotify:\n",
    "    if sang[\"artist\"] == \"Taylor Swift\":\n",
    "        avspillinger += sang[\"antall_streams\"]\n",
    "        antall += 1\n",
    "print(f\"TayTay har total {avspillinger} antall steams, som gir et snitt på {avspillinger/antall}\")"
   ]
  },
  {
   "cell_type": "code",
   "execution_count": 12,
   "metadata": {},
   "outputs": [
    {
     "data": {
      "text/plain": [
       "{'navn': 'The Shawshank Redemption',\n",
       " 'bilde': 'https://m.media-amazon.com/images/M/MV5BMDFkYTc0MGEtZmNhMC00ZDIzLWFmNTEtODM1ZmRlYWMwMWFmXkEyXkFqcGdeQXVyMTMxODk2OTU@._V1_.jpg',\n",
       " 'sjangere': ['Drama'],\n",
       " 'url': 'https://www.imdb.com//title/tt0111161/',\n",
       " 'beskrivelse': 'Two imprisoned men bond over a number of years, finding solace and eventual redemption through acts of common decency.',\n",
       " 'dato': '1994-10-14',\n",
       " 'regissører': ['Frank Darabont'],\n",
       " 'trailer': 'https://www.imdb.com/video/imdb/vi3877612057/imdb/embed?autoplay=false&width=640',\n",
       " 'karakter': 9.3}"
      ]
     },
     "execution_count": 12,
     "metadata": {},
     "output_type": "execute_result"
    }
   ],
   "source": [
    "# Oppgave 2-1\n",
    "def hoyest_karakter(liste:list):\n",
    "    highest = liste[0]\n",
    "    for objekt in liste:\n",
    "        if objekt[\"karakter\"] > highest[\"karakter\"]:\n",
    "            highest = objekt\n",
    "    return highest\n",
    " \n",
    "hoyest_karakter(data_imdb)\n",
    "\n"
   ]
  },
  {
   "cell_type": "code",
   "execution_count": 14,
   "metadata": {},
   "outputs": [
    {
     "data": {
      "text/plain": [
       "8.3"
      ]
     },
     "execution_count": 14,
     "metadata": {},
     "output_type": "execute_result"
    }
   ],
   "source": [
    "# Oppgave 2-2\n",
    "def gjennomsnitt(liste: list):\n",
    "    total = 0\n",
    "    antall = 0\n",
    "    for objekt in liste:\n",
    "        total += objekt[\"karakter\"]\n",
    "        antall += 1\n",
    "    return total/antall\n",
    " \n",
    "round(gjennomsnitt(data_imdb),1)"
   ]
  },
  {
   "cell_type": "code",
   "execution_count": 15,
   "metadata": {},
   "outputs": [
    {
     "data": {
      "text/plain": [
       "9.02"
      ]
     },
     "execution_count": 15,
     "metadata": {},
     "output_type": "execute_result"
    }
   ],
   "source": [
    "# Oppgave 2-3\n",
    "def n_hoyeste_komplisert(liste: list[int], n:int):\n",
    "    n_hoyeste = []\n",
    "    for i in range(0, n):\n",
    "        hoyest = hoyest_karakter(data_imdb)\n",
    "        liste.remove(hoyest)\n",
    "        n_hoyeste.append(hoyest)\n",
    "    return n_hoyeste\n",
    " \n",
    "ny_liste = n_hoyeste_komplisert(data_imdb, 10)\n",
    " \n",
    "gjennomsnitt(ny_liste)"
   ]
  },
  {
   "cell_type": "code",
   "execution_count": 11,
   "metadata": {},
   "outputs": [
    {
     "name": "stdout",
     "output_type": "stream",
     "text": [
      "[('Akira Kurosawa', 7), ('Martin Scorsese', 7), ('Stanley Kubrick', 7)]\n"
     ]
    }
   ],
   "source": [
    "# Oppgave 2-4\n",
    "regissører = {}\n",
    "for film in data_imdb:\n",
    "    for regissør in film[\"regissører\"]:\n",
    "        if regissør in regissører.keys():\n",
    "            regissører[regissør] += 1\n",
    "        else:\n",
    "            regissører[regissør] = 1\n",
    "\n",
    "personer_sortert = sorted(regissører.items(), key=lambda regissør:regissør[1],reverse=True)\n",
    "print(personer_sortert[:3])\n"
   ]
  },
  {
   "cell_type": "code",
   "execution_count": 12,
   "metadata": {},
   "outputs": [
    {
     "name": "stdout",
     "output_type": "stream",
     "text": [
      "Luís Figo, Portugal, 1\n",
      "Michael Owen, England, 1\n",
      "Ronaldo, Brasil, 1\n",
      "Pavel Nedvěd, Tsjekkia, 1\n",
      "Andriy Shevchenko, Ukraina, 1\n",
      "Ronaldinho, Brasil, 1\n",
      "Fabio Cannavaro, Italia, 1\n",
      "Kaká, Brasil, 1\n",
      "Cristiano Ronaldo, Portugal, 5\n",
      "Lionel Messi, Argentina, 8\n",
      "Luka Modric, Kroatia, 1\n",
      "Karim Benzema, Frankrike, 1\n"
     ]
    }
   ],
   "source": [
    "# Oppgave 2.9\n",
    "spillere = {}\n",
    "for spiller in data_gullball:\n",
    "    antall_seiere = len(spiller[\"år\"])\n",
    "    print(f\"{spiller[\"navn\"]}, {spiller[\"nasjonalitet\"]}, {antall_seiere}\")"
   ]
  },
  {
   "cell_type": "code",
   "execution_count": 5,
   "metadata": {},
   "outputs": [],
   "source": [
    "# Oppgave 2.13\n",
    "\n",
    "todo = []\n",
    " \n",
    "def lese():\n",
    "    fil = open(\"Todo.txt\", \"r\", encoding=\"utf-8\")\n",
    "    todo = fil.readlines()\n",
    "    fil.close()\n",
    "    for objekt in todo:\n",
    "        print(objekt)\n",
    " \n",
    "def skrive():\n",
    "    with open(\"Todo.txt\", \"w\", encoding=\"utf-8\") as fil:\n",
    "        fil.writelines(todo)\n",
    "    \n",
    " \n",
    "bruker_input = str(input(\"Hei! Vil du lese eller skrive en todo liste? skriv enten lese eller skrive \\n\"))\n",
    " \n",
    "if bruker_input.lower() == \"lese\":\n",
    "    lese()\n",
    "elif bruker_input.lower() == \"skrive\":\n",
    "    bruker_input_2 = int(input(\"hvor mange elementer vil du ha? Skriv kun et heltall :) \\n\"))\n",
    "    for i in range(0, bruker_input_2):\n",
    "        bruker_input_3 = str(input(f\"hva er ditt {i+1} objekt på listen? oppgi som str \\n\"))\n",
    "        todo.append(bruker_input_3 +\"\\n\")\n",
    "    skrive()\n",
    "else:\n",
    "    print(\"Dette funket ikke, vennligst kjør programmet igjen :)\")\n",
    "\n",
    " "
   ]
  },
  {
   "cell_type": "code",
   "execution_count": null,
   "metadata": {},
   "outputs": [],
   "source": []
  },
  {
   "cell_type": "code",
   "execution_count": null,
   "metadata": {},
   "outputs": [],
   "source": []
  }
 ],
 "metadata": {
  "kernelspec": {
   "display_name": "Python 3",
   "language": "python",
   "name": "python3"
  },
  "language_info": {
   "codemirror_mode": {
    "name": "ipython",
    "version": 3
   },
   "file_extension": ".py",
   "mimetype": "text/x-python",
   "name": "python",
   "nbconvert_exporter": "python",
   "pygments_lexer": "ipython3",
   "version": "3.12.0"
  }
 },
 "nbformat": 4,
 "nbformat_minor": 2
}
