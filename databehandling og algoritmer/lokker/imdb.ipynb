{
 "cells": [
  {
   "cell_type": "markdown",
   "metadata": {},
   "source": [
    "# Oppgave 2.15 - IMDB\n",
    "\n",
    "1. Hvilken film ligger øverst på listen og hvem har regissert den?\n",
    "2. Hva er gjennomsnittskarakteren til alle filmene på listen?\n",
    "3. Hva er gjennomsnittskarakteren til de ti første filmene?\n",
    "4. Hvilken regissør har regissert flest filmer på listen?\n",
    "    * For hver film er regisørrer en liste. Her holder det med første regissør i listen.\n",
    "    * Bonus: Alle regisørrene i regissørlistene skal telles med."
   ]
  },
  {
   "cell_type": "code",
   "execution_count": 1,
   "metadata": {},
   "outputs": [],
   "source": [
    "# Filinnlesig \n",
    "import json\n",
    "fil = open(\"imdb.json\", encoding=\"utf-8\")\n",
    "filmer = json.load(fil)\n",
    "fil.close()"
   ]
  },
  {
   "cell_type": "code",
   "execution_count": 5,
   "metadata": {},
   "outputs": [
    {
     "name": "stdout",
     "output_type": "stream",
     "text": [
      "Filmen som ligger øverst på lista er Yôjinbô, som er reggisert av Akira Kurosawa\n",
      "Filmen med høyest karakter  er The Shawshank Redemption\n"
     ]
    }
   ],
   "source": [
    "# 1. Hvilken film ligger øverst på listen og hvem har regissert den?\n",
    "# a) Hvis oppgaven mener den filmen som ligger øverst i json-filen\n",
    "print(f\"Filmen som ligger øverst på lista er {filmer[0]['navn']}, som er reggisert av {filmer[0]['regissører'][0]}\")\n",
    "\n",
    "# b) Hvis oppgaven mener filmen med høyest karakter\n",
    "høyest = filmer[0]\n",
    "for film in filmer:\n",
    "    if film[\"karakter\"] > høyest[\"karakter\"]:\n",
    "        høyest = film\n",
    "print(f\"Filmen med høyest karakter  er {høyest['navn']}\")\n"
   ]
  },
  {
   "cell_type": "code",
   "execution_count": null,
   "metadata": {},
   "outputs": [],
   "source": []
  }
 ],
 "metadata": {
  "kernelspec": {
   "display_name": "Python 3",
   "language": "python",
   "name": "python3"
  },
  "language_info": {
   "codemirror_mode": {
    "name": "ipython",
    "version": 3
   },
   "file_extension": ".py",
   "mimetype": "text/x-python",
   "name": "python",
   "nbconvert_exporter": "python",
   "pygments_lexer": "ipython3",
   "version": "3.12.0"
  }
 },
 "nbformat": 4,
 "nbformat_minor": 2
}
