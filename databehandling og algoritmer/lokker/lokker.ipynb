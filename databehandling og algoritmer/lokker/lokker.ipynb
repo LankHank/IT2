{
 "cells": [
  {
   "cell_type": "code",
   "execution_count": 9,
   "metadata": {},
   "outputs": [
    {
     "name": "stdout",
     "output_type": "stream",
     "text": [
      "2\n",
      "4\n",
      "6\n",
      "8\n",
      "10\n",
      "12\n",
      "14\n",
      "16\n",
      "18\n",
      "20\n"
     ]
    }
   ],
   "source": [
    "# While-løkker\n",
    "teller = 2\n",
    "while teller <= 20:\n",
    "    print(teller)\n",
    "    teller += 2\n",
    "\n"
   ]
  },
  {
   "cell_type": "code",
   "execution_count": 10,
   "metadata": {},
   "outputs": [
    {
     "name": "stdout",
     "output_type": "stream",
     "text": [
      "1\n",
      "2\n",
      "3\n",
      "4\n"
     ]
    }
   ],
   "source": [
    "i = 1\n",
    "while i < 5:\n",
    "    print(i)\n",
    "    i += 1\n"
   ]
  },
  {
   "cell_type": "code",
   "execution_count": 11,
   "metadata": {},
   "outputs": [
    {
     "name": "stdout",
     "output_type": "stream",
     "text": [
      "1\n",
      "2\n",
      "3\n",
      "4\n",
      "5\n",
      "6\n",
      "7\n",
      "J\n",
      "a\n",
      ",\n",
      " \n",
      "v\n",
      "i\n",
      " \n",
      "e\n",
      "l\n",
      "s\n",
      "k\n",
      "e\n",
      "r\n"
     ]
    }
   ],
   "source": [
    "# For-løkker\n",
    "# Brukes for å gå gjenom en sekvens, en samling med *ting*. F.eks en liste med tall\n",
    "for tall in [1, 2, 3, 4, 5, 6, 7]:\n",
    "    print(tall)\n",
    "\n",
    "for bokstav in \"Ja, vi elsker\":\n",
    "    print(bokstav)"
   ]
  },
  {
   "cell_type": "code",
   "execution_count": 12,
   "metadata": {},
   "outputs": [
    {
     "name": "stdout",
     "output_type": "stream",
     "text": [
      "1\n",
      "2\n",
      "3\n",
      "1\n",
      "2\n",
      "3\n",
      "0\n",
      "1\n",
      "2\n",
      "3\n",
      "4\n",
      "5\n",
      "6\n",
      "7\n",
      "10\n",
      "9\n",
      "8\n",
      "7\n",
      "6\n",
      "5\n",
      "4\n",
      "3\n",
      "2\n",
      "1\n"
     ]
    }
   ],
   "source": [
    "# Range\n",
    "# range(start, slutt_før, steg) er en innebygd funksjon som gir oss en sekvens med tall, \n",
    "# som vi kan bruke i for-løkker\n",
    "\n",
    "for tall in [1, 2, 3]:\n",
    "    print(tall)\n",
    "\n",
    "for tall in range(1, 4, 1):\n",
    "    print(tall)\n",
    "\n",
    "for tall in range(8):\n",
    "    print(tall)\n",
    "\n",
    "for tall in range(10, 0, -1):\n",
    "    print(tall)"
   ]
  },
  {
   "cell_type": "code",
   "execution_count": 14,
   "metadata": {},
   "outputs": [
    {
     "name": "stdout",
     "output_type": "stream",
     "text": [
      "IT1: 6\n",
      "IT2: 6\n",
      "T1: 6\n",
      "R1: 5\n",
      "R2: 5\n"
     ]
    }
   ],
   "source": [
    "fag = [\"IT1\", \"IT2\", \"T1\", \"R1\", \"R2\"]\n",
    "karakterer = [6, 6, 6, 5, 5]\n",
    " \n",
    "assert len(fag) == len(karakterer)\n",
    "for i in range(len(fag)):\n",
    "    print(f\"{fag[i]}: {karakterer[i]}\")"
   ]
  },
  {
   "cell_type": "code",
   "execution_count": 15,
   "metadata": {},
   "outputs": [
    {
     "name": "stdout",
     "output_type": "stream",
     "text": [
      "David Ravi\n",
      "43\n",
      "Mattelærer\n",
      "Gaming\n",
      "Databrus\n"
     ]
    }
   ],
   "source": [
    "ravi = {\n",
    "    \"navn\": \"David Ravi\",\n",
    "    \"alder\": 43,\n",
    "    \"yrke\": \"Mattelærer\",\n",
    "    \"favorittaktivitet\": \"Gaming\",\n",
    "    \"favorittdrikk\": \"Databrus\"\n",
    "}\n",
    " \n",
    "for nøkkel in ravi:\n",
    "    print(ravi[nøkkel])"
   ]
  },
  {
   "cell_type": "code",
   "execution_count": 13,
   "metadata": {},
   "outputs": [
    {
     "name": "stdout",
     "output_type": "stream",
     "text": [
      "Emma Stone (34)\n"
     ]
    }
   ],
   "source": [
    "skuespillere = [\n",
    "    {\"navn\": \"Tom Hanks\", \"alder\": 66},\n",
    "    {\"navn\": \"Meryl Streep\", \"alder\": 73},\n",
    "    {\"navn\": \"Leonardo DiCaprio\", \"alder\": 48},\n",
    "    {\"navn\": \"Julia Roberts\", \"alder\": 55},\n",
    "    {\"navn\": \"Denzel Washington\", \"alder\": 67},\n",
    "    {\"navn\": \"Nicole Kidman\", \"alder\": 55},\n",
    "    {\"navn\": \"Brad Pitt\", \"alder\": 59},\n",
    "    {\"navn\": \"Charlize Theron\", \"alder\": 47},\n",
    "    {\"navn\": \"Johnny Depp\", \"alder\": 59},\n",
    "    {\"navn\": \"Emma Stone\", \"alder\": 34},\n",
    "]\n",
    "\n",
    "favoritt = skuespillere[9]\n",
    "print(f\"{favoritt['navn']} ({favoritt['alder']})\")"
   ]
  },
  {
   "cell_type": "code",
   "execution_count": 16,
   "metadata": {},
   "outputs": [
    {
     "name": "stdout",
     "output_type": "stream",
     "text": [
      "Tom Hanks (66)\n",
      "Meryl Streep (73)\n",
      "Leonardo DiCaprio (48)\n",
      "Julia Roberts (55)\n",
      "Denzel Washington (67)\n",
      "Nicole Kidman (55)\n",
      "Brad Pitt (59)\n",
      "Charlize Theron (47)\n",
      "Johnny Depp (59)\n",
      "Emma Stone (34)\n"
     ]
    }
   ],
   "source": [
    "for skuespiller in skuespillere:\n",
    "    print(f\"{skuespiller[\"navn\"]} ({skuespiller[\"alder\"]})\")"
   ]
  },
  {
   "cell_type": "code",
   "execution_count": 18,
   "metadata": {},
   "outputs": [
    {
     "name": "stdout",
     "output_type": "stream",
     "text": [
      "{'navn': 'Meryl Streep', 'alder': 73}\n",
      "56.3\n"
     ]
    }
   ],
   "source": [
    "eldst = skuespillere[0]\n",
    "totalalder = 0\n",
    "for skuespiller in skuespillere:\n",
    "    totalalder += skuespiller[\"alder\"]\n",
    "    if skuespiller[\"alder\"] > eldst[\"alder\"]:\n",
    "        eldst = skuespiller\n",
    "\n",
    "print(eldst)\n",
    "snitt = totalalder / len(skuespillere)\n",
    "print(snitt)"
   ]
  },
  {
   "cell_type": "code",
   "execution_count": null,
   "metadata": {},
   "outputs": [],
   "source": []
  }
 ],
 "metadata": {
  "kernelspec": {
   "display_name": "Python 3",
   "language": "python",
   "name": "python3"
  },
  "language_info": {
   "codemirror_mode": {
    "name": "ipython",
    "version": 3
   },
   "file_extension": ".py",
   "mimetype": "text/x-python",
   "name": "python",
   "nbconvert_exporter": "python",
   "pygments_lexer": "ipython3",
   "version": "3.12.0"
  }
 },
 "nbformat": 4,
 "nbformat_minor": 2
}
