{
 "cells": [
  {
   "cell_type": "markdown",
   "metadata": {},
   "source": [
    "## Oppgave 3\n",
    "\n",
    "Listen `biler` inneholder informasjon om de 10 mest solgte bilene i Norge i 2023.\n",
    "\n",
    "> OBS! Kjør kodeblokken under før du begynner å programmere!\n",
    "\n",
    "1. Bruk listen og lag en fin utskrift med informasjon om Tesla Model Y\n",
    "2. Bruk listen og lag en fin utskrift med informasjon om alle bilene på topplisten\n",
    "3. Av bilene som er på topplisten hvor mange solgte biler er av merke Toyota?\n",
    "4. Lag en ordbok som teller antall solgte biler for hvert bilmerke på topplisten\n",
    "5. Tegn et stolpediagram som viser antall solgte biler på topplisten gruppert etter bilmerke"
   ]
  },
  {
   "cell_type": "code",
   "execution_count": 2,
   "metadata": {},
   "outputs": [],
   "source": [
    "biler =  [\n",
    "    {\"bilmerke\": \"Tesla\", \"modell\": \"Model Y\", \"land\": \"USA\", \"antall_solgte\": 23088, \"andel_solgte\": 18.2},\n",
    "    {\"bilmerke\": \"Volkswagen\", \"modell\": \"ID.4\", \"land\": \"Tyskland\", \"antall_solgte\": 6614, \"andel_solgte\": 5.2},\n",
    "    {\"bilmerke\": \"Skoda\", \"modell\": \"Enyaq\", \"land\": \"Tsjekkia\", \"antall_solgte\": 5740, \"andel_solgte\": 4.5},\n",
    "    {\"bilmerke\": \"Toyota\", \"modell\": \"bZ4X\", \"land\": \"Japan\", \"antall_solgte\": 5395, \"andel_solgte\": 4.2},\n",
    "    {\"bilmerke\": \"Volvo\", \"modell\": \"XC40\", \"land\": \"Sverige\", \"antall_solgte\": 5025, \"andel_solgte\": 4.0},\n",
    "    {\"bilmerke\": \"Ford\", \"modell\": \"Mustang Mach-E\", \"land\": \"USA\", \"antall_solgte\": 3792, \"andel_solgte\": 3.0},\n",
    "    {\"bilmerke\": \"Toyota\", \"modell\": \"Yaris\", \"land\": \"Japan\", \"antall_solgte\": 3582, \"andel_solgte\": 2.8},\n",
    "    {\"bilmerke\": \"Toyota\", \"modell\": \"RAV4\", \"land\": \"Japan\", \"antall_solgte\": 3457, \"andel_solgte\": 2.7},\n",
    "    {\"bilmerke\": \"Volkswagen\", \"modell\": \"ID.3\", \"land\": \"Tyskland\", \"antall_solgte\": 3141, \"andel_solgte\": 2.5}\n",
    "]\n",
    "# Kjør denne kodeblokken før du begynner! (shift + enter) / (Trykk på play)"
   ]
  },
  {
   "cell_type": "code",
   "execution_count": 3,
   "metadata": {},
   "outputs": [
    {
     "name": "stdout",
     "output_type": "stream",
     "text": [
      "Tesla Model Y er en bil fra USA og det er solgt 23088 av den.\n"
     ]
    }
   ],
   "source": [
    "# 1. Bruk ordboken og lag en fin utskrift med informasjon om Tesla Model Y\n",
    "print(f\"{biler[0][\"bilmerke\"]} {biler[0][\"modell\"]} er en bil fra {biler[0][\"land\"]} og det er solgt {biler[0][\"antall_solgte\"]} av den.\")"
   ]
  },
  {
   "cell_type": "code",
   "execution_count": 4,
   "metadata": {},
   "outputs": [
    {
     "name": "stdout",
     "output_type": "stream",
     "text": [
      "Tesla Model Y er en bil fra USA og det er solgt 23088 av den.\n",
      "Volkswagen ID.4 er en bil fra Tyskland og det er solgt 6614 av den.\n",
      "Skoda Enyaq er en bil fra Tsjekkia og det er solgt 5740 av den.\n",
      "Toyota bZ4X er en bil fra Japan og det er solgt 5395 av den.\n",
      "Volvo XC40 er en bil fra Sverige og det er solgt 5025 av den.\n",
      "Ford Mustang Mach-E er en bil fra USA og det er solgt 3792 av den.\n",
      "Toyota Yaris er en bil fra Japan og det er solgt 3582 av den.\n",
      "Toyota RAV4 er en bil fra Japan og det er solgt 3457 av den.\n",
      "Volkswagen ID.3 er en bil fra Tyskland og det er solgt 3141 av den.\n"
     ]
    }
   ],
   "source": [
    "# 2. Bruk listen og lag en fin utskrift med informasjon om alle bilene på topplisten\n",
    "for bil in biler:\n",
    "    print(f\"{bil[\"bilmerke\"]} {bil[\"modell\"]} er en bil fra {bil[\"land\"]} og det er solgt {bil[\"antall_solgte\"]} av den.\")"
   ]
  },
  {
   "cell_type": "code",
   "execution_count": 8,
   "metadata": {},
   "outputs": [
    {
     "name": "stdout",
     "output_type": "stream",
     "text": [
      "12434\n"
     ]
    }
   ],
   "source": [
    "# 3. Av bilene som er på topplisten hvor mange solgte biler var av merke Toyota?\n",
    "antall_toyota = 0\n",
    "for bil in biler:\n",
    "    if bil[\"bilmerke\"] == \"Toyota\":\n",
    "        antall_toyota += bil[\"antall_solgte\"]\n",
    "print(antall_toyota)"
   ]
  },
  {
   "cell_type": "code",
   "execution_count": 13,
   "metadata": {},
   "outputs": [
    {
     "data": {
      "text/plain": [
       "{'Tesla': 23088,\n",
       " 'Volkswagen': 9755,\n",
       " 'Skoda': 5740,\n",
       " 'Toyota': 12434,\n",
       " 'Volvo': 5025,\n",
       " 'Ford': 3792}"
      ]
     },
     "execution_count": 13,
     "metadata": {},
     "output_type": "execute_result"
    }
   ],
   "source": [
    "# 4. Lag en ordbok som teller antall solgte biler for hvert bilmerke på topplisten\n",
    "antall_solgte = {}\n",
    "for bil in biler:\n",
    "    if bil[\"bilmerke\"] in antall_solgte:\n",
    "        antall_solgte[bil[\"bilmerke\"]] += bil[\"antall_solgte\"]\n",
    "    else:\n",
    "        antall_solgte[bil[\"bilmerke\"]] = bil[\"antall_solgte\"]\n",
    "\n",
    "antall_solgte"
   ]
  },
  {
   "cell_type": "code",
   "execution_count": 14,
   "metadata": {},
   "outputs": [
    {
     "data": {
      "image/png": "[encoded data removed]",
      "text/plain": [
       "<Figure size 640x480 with 1 Axes>"
      ]
     },
     "metadata": {},
     "output_type": "display_data"
    }
   ],
   "source": [
    "# 5. Tegn et stolpediagram som viser antall solgte biler på topplisten gruppert etter bilmerke\n",
    "import matplotlib.pyplot  as plt\n",
    "\n",
    "bilmerke = list(antall_solgte.keys())\n",
    "solgte_antall = list(antall_solgte.values())\n",
    "\n",
    "\n",
    "\n",
    "plt.bar(bilmerke, solgte_antall)\n",
    "plt.xticks(rotation=90)\n",
    "plt.show()"
   ]
  },
  {
   "cell_type": "markdown",
   "metadata": {},
   "source": [
    "## Oppgave 4\n",
    "\n",
    "1. Åpne filen oscar2024.json med python, og print ordboken til \"Actor in a Leading Role\" (den første prisen)\n",
    "2. Print alle de nominerte filmene\n",
    "3. Hvor mange nominasjoner har filmen \"Barbie\"\n",
    "4. Hvilken film har flest nominasjoner, hvor mange har den?\n",
    "5. Lag en oversikt som presenterer de ti filmene med flest nominasjoner og antall nominasjoner"
   ]
  },
  {
   "cell_type": "code",
   "execution_count": 10,
   "metadata": {},
   "outputs": [
    {
     "name": "stdout",
     "output_type": "stream",
     "text": [
      "[{'name': 'Bradley Cooper', 'movie': 'Maestro'}, {'name': 'Colman Domingo', 'movie': 'Rustin'}, {'name': 'Paul Giamatti', 'movie': 'The Holdovers'}, {'name': 'Cillian Murphy', 'movie': 'Oppenheimer'}, {'name': 'Jeffrey Wright', 'movie': 'American Fiction'}]\n"
     ]
    }
   ],
   "source": [
    "# 1. Åpne filen oscar2024.json med python og print ordboken til \"Actor in a Leading Role\"\n",
    "import json\n",
    "fil = open(\"oscar2024.json\", encoding=\"utf-8\")\n",
    "data = json.load(fil)\n",
    "fil.close()\n",
    "\n",
    "print(data[0][\"nominations\"])\n"
   ]
  },
  {
   "cell_type": "code",
   "execution_count": 19,
   "metadata": {},
   "outputs": [
    {
     "name": "stdout",
     "output_type": "stream",
     "text": [
      "Maestro\n",
      "Rustin\n",
      "The Holdovers\n",
      "Oppenheimer\n",
      "American Fiction\n",
      "American Fiction\n",
      "Killers of the Flower Moon\n",
      "Oppenheimer\n",
      "Barbie\n",
      "Poor Things\n",
      "Nyad\n",
      "Killers of the Flower Moon\n",
      "Anatomy of a Fall\n",
      "Maestro\n",
      "Poor Things\n",
      "Oppenheimer\n",
      "The Color Purple\n",
      "Barbie\n",
      "Nyad\n",
      "The Holdovers\n",
      "The Boy and the Heron\n",
      "Elemental\n",
      "Nimona\n",
      "Robot Dreams\n",
      "Spider-Man: Across the Spider-Verse\n",
      "El Conde\n",
      "Killers of the Flower Moon\n",
      "Maestro\n",
      "Oppenheimer\n",
      "Poor Things\n",
      "Barbie\n",
      "Killers of the Flower Moon\n",
      "Napoleon\n",
      "Oppenheimer\n",
      "Poor Things\n",
      "Anatomy of a Fall\n",
      "Killers of the Flower Moon\n",
      "Oppenheimer\n",
      "Poor Things\n",
      "The Zone of Interest\n",
      "Bobi Wine: The People's President\n",
      "Four Daughters\n",
      "To Kill a Tiger\n",
      "20 Days in Mariupol\n",
      "The ABCs of Book Banning\n",
      "The Barber of Little Rock\n",
      "Island in Between\n",
      "The Last Repair Shop\n",
      "Nǎi Nai & Wài Pó\n",
      "Anatomy of a Fall\n",
      "The Holdovers\n",
      "Killers of the Flower Moon\n",
      "Oppenheimer\n",
      "Poor Things\n",
      "Io Capitano\n",
      "Perfect Days\n",
      "Society of the Snow\n",
      "The Teachers' Lounge\n",
      "The Zone of Interest\n",
      "American Fiction\n",
      "Anatomy of a Fall\n",
      "Barbie\n",
      "The Holdovers\n",
      "Killers of the Flower Moon\n",
      "Maestro\n",
      "Oppenheimer\n",
      "Past Lives\n",
      "Poor Things\n",
      "The Zone of Interest\n",
      "Golda\n",
      "Maestro\n",
      "Oppenheimer\n",
      "Poor Things\n",
      "Society of the Snow\n",
      "American Fiction\n",
      "Indiana Jones and the Dial of Destiny\n",
      "Killers of the Flower Moon\n",
      "Oppenheimer\n",
      "Poor Things\n",
      "The Fire Inside\n",
      "I'm Just Ken\n",
      "It Never Went Away\n",
      "Wahzhazhe (A Song For My People)\n",
      "What Was I Made For?\n",
      "Barbie\n",
      "Killers of the Flower Moon\n",
      "Napoleon\n",
      "Oppenheimer\n",
      "Poor Things\n",
      "Letter to a Pig\n",
      "Ninety-Five Senses\n",
      "Our Uniform\n",
      "Pachyderme\n",
      "WAR IS OVER! Inspired by the Music of John & Yoko\n",
      "The After\n",
      "Invincible\n",
      "Knight of Fortune\n",
      "Red, White and Blue\n",
      "The Wonderful Story of Henry Sugar\n",
      "The Creator\n",
      "Maestro\n",
      "Mission: Impossible - Dead Reckoning Part One\n",
      "Oppenheimer\n",
      "The Zone of Interest\n",
      "The Creator\n",
      "Godzilla Minus One\n",
      "Guardians of the Galaxy Vol. 3\n",
      "Mission: Impossible - Dead Reckoning Part One\n",
      "Napoleon\n",
      "American Fiction\n",
      "Barbie\n",
      "Oppenheimer\n",
      "Poor Things\n",
      "The Zone of Interest\n",
      "Anatomy of a Fall\n",
      "The Holdovers\n",
      "Maestro\n",
      "May December\n",
      "Past Lives\n"
     ]
    }
   ],
   "source": [
    "# 2. Print alle de nominerte filmene\n",
    "# >  Filmer som er nominert til flere priser kan printes flere ganger\n",
    "for pris in data:\n",
    "    for filmer in pris[\"nominations\"]:\n",
    "        print(filmer[\"movie\"])\n"
   ]
  },
  {
   "cell_type": "code",
   "execution_count": 11,
   "metadata": {},
   "outputs": [
    {
     "data": {
      "text/plain": [
       "6"
      ]
     },
     "execution_count": 11,
     "metadata": {},
     "output_type": "execute_result"
    }
   ],
   "source": [
    "# 3. Hvor mange nominasjoner har filmen \"Barbie\"\n",
    "barbie_nominasjoner = 0\n",
    "for pris in data:\n",
    "    for filmer in pris[\"nominations\"]:\n",
    "        if filmer[\"movie\"] == \"Barbie\":\n",
    "            barbie_nominasjoner += 1\n",
    "\n",
    "barbie_nominasjoner\n",
    "\n"
   ]
  },
  {
   "cell_type": "code",
   "execution_count": 38,
   "metadata": {},
   "outputs": [
    {
     "name": "stdout",
     "output_type": "stream",
     "text": [
      "{'Maestro': 7, 'Rustin': 1, 'The Holdovers': 5, 'Oppenheimer': 13, 'American Fiction': 5, 'Killers of the Flower Moon': 9, 'Barbie': 6, 'Poor Things': 11, 'Nyad': 2, 'Anatomy of a Fall': 5, 'The Color Purple': 1, 'The Boy and the Heron': 1, 'Elemental': 1, 'Nimona': 1, 'Robot Dreams': 1, 'Spider-Man: Across the Spider-Verse': 1, 'El Conde': 1, 'Napoleon': 3, 'The Zone of Interest': 5, \"Bobi Wine: The People's President\": 1, 'Four Daughters': 1, 'To Kill a Tiger': 1, '20 Days in Mariupol': 1, 'The ABCs of Book Banning': 1, 'The Barber of Little Rock': 1, 'Island in Between': 1, 'The Last Repair Shop': 1, 'Nǎi Nai & Wài Pó': 1, 'Io Capitano': 1, 'Perfect Days': 1, 'Society of the Snow': 2, \"The Teachers' Lounge\": 1, 'Past Lives': 2, 'Golda': 1, 'Indiana Jones and the Dial of Destiny': 1, 'The Fire Inside': 1, \"I'm Just Ken\": 1, 'It Never Went Away': 1, 'Wahzhazhe (A Song For My People)': 1, 'What Was I Made For?': 1, 'Letter to a Pig': 1, 'Ninety-Five Senses': 1, 'Our Uniform': 1, 'Pachyderme': 1, 'WAR IS OVER! Inspired by the Music of John & Yoko': 1, 'The After': 1, 'Invincible': 1, 'Knight of Fortune': 1, 'Red, White and Blue': 1, 'The Wonderful Story of Henry Sugar': 1, 'The Creator': 2, 'Mission: Impossible - Dead Reckoning Part One': 2, 'Godzilla Minus One': 1, 'Guardians of the Galaxy Vol. 3': 1, 'May December': 1}\n",
      "[('Oppenheimer', 13), ('Poor Things', 11), ('Killers of the Flower Moon', 9), ('Maestro', 7), ('Barbie', 6), ('The Holdovers', 5), ('American Fiction', 5), ('Anatomy of a Fall', 5), ('The Zone of Interest', 5), ('Napoleon', 3), ('Nyad', 2), ('Society of the Snow', 2), ('Past Lives', 2), ('The Creator', 2), ('Mission: Impossible - Dead Reckoning Part One', 2), ('Rustin', 1), ('The Color Purple', 1), ('The Boy and the Heron', 1), ('Elemental', 1), ('Nimona', 1), ('Robot Dreams', 1), ('Spider-Man: Across the Spider-Verse', 1), ('El Conde', 1), (\"Bobi Wine: The People's President\", 1), ('Four Daughters', 1), ('To Kill a Tiger', 1), ('20 Days in Mariupol', 1), ('The ABCs of Book Banning', 1), ('The Barber of Little Rock', 1), ('Island in Between', 1), ('The Last Repair Shop', 1), ('Nǎi Nai & Wài Pó', 1), ('Io Capitano', 1), ('Perfect Days', 1), (\"The Teachers' Lounge\", 1), ('Golda', 1), ('Indiana Jones and the Dial of Destiny', 1), ('The Fire Inside', 1), (\"I'm Just Ken\", 1), ('It Never Went Away', 1), ('Wahzhazhe (A Song For My People)', 1), ('What Was I Made For?', 1), ('Letter to a Pig', 1), ('Ninety-Five Senses', 1), ('Our Uniform', 1), ('Pachyderme', 1), ('WAR IS OVER! Inspired by the Music of John & Yoko', 1), ('The After', 1), ('Invincible', 1), ('Knight of Fortune', 1), ('Red, White and Blue', 1), ('The Wonderful Story of Henry Sugar', 1), ('Godzilla Minus One', 1), ('Guardians of the Galaxy Vol. 3', 1), ('May December', 1)]\n",
      "Oppenheimer er den filmen med flest nominasjoner, og den har 13 nominasjoner.\n"
     ]
    }
   ],
   "source": [
    "# 4. Hvilken film har flest nominasjoner, hvor mange har den?\n",
    "antall_nominasjoner = {}\n",
    "for pris in data:\n",
    "    for filmer in pris[\"nominations\"]:\n",
    "        if filmer[\"movie\"] in antall_nominasjoner:\n",
    "            antall_nominasjoner[filmer[\"movie\"]] += 1\n",
    "        else:\n",
    "            antall_nominasjoner[filmer[\"movie\"]] = 1\n",
    "\n",
    "print(antall_nominasjoner)\n",
    "\n",
    "nomninasjons_liste = list(antall_nominasjoner.items())\n",
    "\n",
    "sortert = sorted(nomninasjons_liste, key=lambda film:film[1], reverse=True)\n",
    "print(sortert)\n",
    "\n",
    "print(f\"{sortert[0][0]} er den filmen med flest nominasjoner, og den har {sortert[0][1]} nominasjoner.\")\n"
   ]
  },
  {
   "cell_type": "code",
   "execution_count": 36,
   "metadata": {},
   "outputs": [
    {
     "name": "stdout",
     "output_type": "stream",
     "text": [
      "Oppenheimer, antall nominajsoner: 13\n",
      "Poor Things, antall nominajsoner: 11\n",
      "Killers of the Flower Moon, antall nominajsoner: 9\n",
      "Maestro, antall nominajsoner: 7\n",
      "Barbie, antall nominajsoner: 6\n",
      "The Holdovers, antall nominajsoner: 5\n",
      "American Fiction, antall nominajsoner: 5\n",
      "Anatomy of a Fall, antall nominajsoner: 5\n",
      "The Zone of Interest, antall nominajsoner: 5\n",
      "Napoleon, antall nominajsoner: 3\n"
     ]
    }
   ],
   "source": [
    "# 5. Lag en utskrift som viser de ti filmene med flest nominasjoner og antall nominasjoner\n",
    "sortert = sortert[:10]\n",
    "for film in sortert:\n",
    "    print(f\"{film[0]}, antall nominajsoner: {film[1]}\")"
   ]
  }
 ],
 "metadata": {
  "kernelspec": {
   "display_name": "Python 3",
   "language": "python",
   "name": "python3"
  },
  "language_info": {
   "codemirror_mode": {
    "name": "ipython",
    "version": 3
   },
   "file_extension": ".py",
   "mimetype": "text/x-python",
   "name": "python",
   "nbconvert_exporter": "python",
   "pygments_lexer": "ipython3",
   "version": "3.12.0"
  }
 },
 "nbformat": 4,
 "nbformat_minor": 2
}
